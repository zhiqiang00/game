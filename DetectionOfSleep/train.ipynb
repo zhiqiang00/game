{
 "cells": [
  {
   "cell_type": "code",
   "execution_count": 2,
   "metadata": {},
   "outputs": [],
   "source": [
    "import numpy as np"
   ]
  },
  {
   "cell_type": "code",
   "execution_count": 3,
   "metadata": {},
   "outputs": [],
   "source": [
    "# 读取数据\n",
    "train_data_x = np.load('./train_data/train_x.npy')\n",
    "train_data_y = np.load('./train_data/train_y.npy')"
   ]
  },
  {
   "cell_type": "code",
   "execution_count": 15,
   "metadata": {},
   "outputs": [
    {
     "data": {
      "text/plain": [
       "array([[96, 96, 96, 96, 96, 96, 96, 96, 96, 96, 96, 96, 96, 96, 96, 96,\n",
       "        96, 96, 96, 96, 96, 96, 96, 96, 96, 96, 96, 96, 96, 95, 95, 95,\n",
       "        95, 95, 95, 95, 95, 95, 95, 95, 95, 95, 95, 95, 95, 95, 95, 95,\n",
       "        95, 95, 95, 95, 95, 95, 95, 95, 95, 95, 95, 95, 95, 95, 94, 94,\n",
       "        94, 94, 94, 94, 94, 94, 94, 94, 94, 94, 94, 94, 94, 94, 94, 94,\n",
       "        94, 94, 94, 94, 94, 94, 94, 94, 94, 94, 94, 94, 94, 94, 94, 94,\n",
       "        94, 94, 94, 94, 94, 94, 94, 94, 94, 94, 94, 94, 94, 94, 94, 94,\n",
       "        94, 94, 94, 94, 94, 94, 94, 94, 94, 94, 94, 94, 94, 95, 95, 95,\n",
       "        95, 95, 95, 95, 95, 95, 95, 95, 95, 95, 95, 95, 95, 95, 95, 95,\n",
       "        95, 95, 96, 96, 96, 96, 96, 96, 96, 96, 96, 96, 96, 96, 96, 96,\n",
       "        96, 96, 96, 96, 96, 96, 96, 96, 96, 96, 95, 95, 95, 95, 95, 95,\n",
       "        95, 95, 95, 94],\n",
       "       [46, 54, 62, 67, 67, 66, 66, 66, 67, 66, 65, 65, 65, 65, 65, 66,\n",
       "        67, 66, 65, 63, 65, 67, 69, 68, 66, 65, 66, 66, 66, 67, 68, 69,\n",
       "        70, 69, 66, 62, 62, 65, 67, 66, 65, 64, 66, 68, 68, 67, 65, 65,\n",
       "        67, 69, 67, 66, 64, 64, 64, 64, 65, 66, 69, 72, 73, 71, 69, 69,\n",
       "        70, 71, 71, 72, 73, 74, 75, 76, 77, 83, 89, 81, 70, 60, 60, 69,\n",
       "        76, 76, 76, 78, 81, 81, 78, 76, 75, 75, 71, 66, 62, 61, 61, 60,\n",
       "        60, 59, 58, 58, 58, 58, 58, 58, 58, 59, 59, 60, 60, 61, 61, 61,\n",
       "        61, 61, 62, 65, 67, 66, 65, 64, 66, 67, 67, 67, 67, 68, 69, 70,\n",
       "        68, 67, 71, 78, 78, 70, 61, 53, 57, 61, 63, 61, 60, 59, 62, 65,\n",
       "        67, 65, 64, 66, 69, 73, 84, 92, 79, 67, 55, 50, 56, 62, 65, 65,\n",
       "        65, 66, 67, 67, 67, 67, 64, 58, 53, 47, 42, 43, 44, 46, 48, 52,\n",
       "        57, 59, 56, 53]])"
      ]
     },
     "execution_count": 15,
     "metadata": {},
     "output_type": "execute_result"
    }
   ],
   "source": [
    "train_data_x[0]"
   ]
  },
  {
   "cell_type": "code",
   "execution_count": 10,
   "metadata": {},
   "outputs": [
    {
     "data": {
      "text/plain": [
       "(37549,)"
      ]
     },
     "execution_count": 10,
     "metadata": {},
     "output_type": "execute_result"
    }
   ],
   "source": [
    "train_data_y.shape"
   ]
  },
  {
   "cell_type": "code",
   "execution_count": null,
   "metadata": {},
   "outputs": [],
   "source": []
  }
 ],
 "metadata": {
  "kernelspec": {
   "display_name": "tf2",
   "language": "python",
   "name": "python3"
  },
  "language_info": {
   "codemirror_mode": {
    "name": "ipython",
    "version": 3
   },
   "file_extension": ".py",
   "mimetype": "text/x-python",
   "name": "python",
   "nbconvert_exporter": "python",
   "pygments_lexer": "ipython3",
   "version": "3.8.17"
  }
 },
 "nbformat": 4,
 "nbformat_minor": 2
}
