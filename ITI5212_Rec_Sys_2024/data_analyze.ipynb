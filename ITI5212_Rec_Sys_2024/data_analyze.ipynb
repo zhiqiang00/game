{
 "cells": [
  {
   "cell_type": "code",
   "execution_count": 1,
   "metadata": {},
   "outputs": [],
   "source": [
    "# !pip3 install nltk\n",
    "\n",
    "import re\n",
    "import sys\n",
    "import numpy as np\n",
    "import pandas as pd\n",
    "import matplotlib.pylab as plt\n",
    "from sklearn.preprocessing import MinMaxScaler\n",
    "from sklearn.feature_extraction.text import CountVectorizer\n",
    "from keras.preprocessing.sequence import pad_sequences\n",
    "\n",
    "from nltk.tokenize import word_tokenize\n",
    "import nltk\n",
    "\n",
    "sys.path.append(\"/Users/wzq/Desktop/game\")\n",
    "from utils import load_glove_embeddings, sentence_to_embedding\n",
    "\n",
    "# jupyter配置\n",
    "from IPython.display import display\n",
    "pd.options.display.max_rows=10000 #Notebook 的一个cell的显示行数\n",
    "pd.options.display.max_columns=100000#Notebook 的一个cell的显示列数\n",
    "pd.set_option('display.max_colwidth', None)"
   ]
  },
  {
   "cell_type": "code",
   "execution_count": null,
   "metadata": {},
   "outputs": [],
   "source": [
    "## 数据处理\n",
    "train_data = pd.read_csv('./data/train.csv')\n",
    "test_data = pd.read_csv('./data/test.csv')"
   ]
  },
  {
   "cell_type": "code",
   "execution_count": 27,
   "metadata": {},
   "outputs": [
    {
     "name": "stdout",
     "output_type": "stream",
     "text": [
      "x_0.shape torch.Size([3, 5, 1])\n",
      "kernels.shape torch.Size([5, 1])\n",
      "xl_w.shape torch.Size([3, 1, 1])\n",
      "dot.shape torch.Size([3, 5, 1])\n"
     ]
    },
    {
     "data": {
      "text/plain": [
       "torch.Size([3, 5])"
      ]
     },
     "execution_count": 27,
     "metadata": {},
     "output_type": "execute_result"
    }
   ],
   "source": [
    "## 文本分析\n",
    "df_unique_by_columns = train_data.drop_duplicates(subset=['product_name', 'product_id'])[['product_name', 'product_id']]\n",
    "df_unique_by_columns.head(10000).sort_values('product_name')\n",
    "product_name = df_unique_by_columns['product_name']\n",
    "# display(product_name)\n",
    "# 分析\n",
    "# tokenized_data = [word_tokenize(sentence.lower()) for sentence in product_name]\n",
    "# tokenized_data\n",
    "# model = KeyedVectors.load_word2vec_format('path/to/glove.6B.100d.txt', binary=False)\n",
    "# lengths = [len(s) for s in tokenized_data]\n",
    "# max_len = int(np.percentile(lengths, 90)) #  lengths 列表中计算出覆盖 90% 样本的最大长度。 14\n",
    "\n",
    "\n",
    "# def load_glove_embeddings(file_path):\n",
    "#     embeddings_index = {}\n",
    "#     with open(file_path, 'r', encoding='utf-8') as f:\n",
    "#         for line in f:\n",
    "#             values = line.split()\n",
    "#             word = values[0]\n",
    "#             embedding_vector = np.asarray(values[1:], dtype='float32')\n",
    "#             embeddings_index[word] = embedding_vector\n",
    "#     return embeddings_index\n",
    "\n",
    "# # 分词并加载词嵌入\n",
    "# def sentence_to_embedding(sentence, embeddings_index, embedding_dim=100):\n",
    "#     words = word_tokenize(sentence.lower())  # 分词，并转化为小写\n",
    "#     embeddings = []\n",
    "#     for word in words:\n",
    "#         if word in embeddings_index:\n",
    "#             embeddings.extend(embeddings_index[word])\n",
    "#         else:\n",
    "#             embeddings.extend(np.zeros(embedding_dim))  # 若词不在 GloVe 中，则用零向量替代\n",
    "#     return embeddings\n",
    "\n",
    "# 为每一句话生成嵌入矩阵\n",
    "tmp = pd.DataFrame()\n",
    "tmp['product_name'] = train_data['product_name'].iloc[:10]\n",
    "tmp['product_name_embeddings'] = tmp['product_name'].apply(lambda x: sentence_to_embedding(x, glove_embeddings))\n",
    "\n",
    "# display(tmp[['product_name','product_name_embeddings']].head())\n",
    "embeddings_padded = pad_sequences(tmp['product_name_embeddings'].tolist(), maxlen=14 * 100, dtype='float32', padding='post', truncating='post')\n",
    "for i in range(14):\n",
    "    cn = 'product_name_embeddings_' + str(i)\n",
    "    tmp[cn] = embeddings_padded[:, i]\n",
    "display(tmp.head())\n",
    "\n",
    "\n",
    "# plt.figure(figsize=(10,6))\n",
    "# plt.hist(lengths, bins=range(1, max(lengths) + 2), alpha=0.7)\n",
    "# plt.title('Sentence Length Distribution')\n",
    "# plt.xlabel('Length of Sentences (Number of Words)')\n",
    "# plt.ylabel('Frequency')\n",
    "# plt.xticks(range(1, max(lengths) + 1), rotation=45)\n",
    "# plt.grid(axis='y', alpha=0.75)\n",
    "# plt.show()"
   ]
  },
  {
   "cell_type": "code",
   "execution_count": 3,
   "metadata": {},
   "outputs": [
    {
     "data": {
      "text/plain": [
       "41905.0"
      ]
     },
     "metadata": {},
     "output_type": "display_data"
    },
    {
     "data": {
      "text/plain": [
       "83810.0"
      ]
     },
     "metadata": {},
     "output_type": "display_data"
    },
    {
     "data": {
      "text/plain": [
       "125715.0"
      ]
     },
     "metadata": {},
     "output_type": "display_data"
    },
    {
     "data": {
      "text/plain": [
       "167620.0"
      ]
     },
     "metadata": {},
     "output_type": "display_data"
    }
   ],
   "source": [
    "display(209525 * 0.2)\n",
    "display(209525 * 0.4)\n",
    "display(209525 * 0.6)\n",
    "display(209525 * 0.8)"
   ]
  },
  {
   "cell_type": "code",
   "execution_count": 5,
   "metadata": {},
   "outputs": [
    {
     "data": {
      "text/plain": [
       "2427.8"
      ]
     },
     "metadata": {},
     "output_type": "display_data"
    },
    {
     "data": {
      "text/plain": [
       "4855.6"
      ]
     },
     "metadata": {},
     "output_type": "display_data"
    },
    {
     "data": {
      "text/plain": [
       "7283.4"
      ]
     },
     "metadata": {},
     "output_type": "display_data"
    },
    {
     "data": {
      "text/plain": [
       "9711.2"
      ]
     },
     "metadata": {},
     "output_type": "display_data"
    }
   ],
   "source": [
    "display(12139 * 0.2)\n",
    "display(12139 * 0.4)\n",
    "display(12139 * 0.6)\n",
    "display(12139 * 0.8)"
   ]
  }
 ],
 "metadata": {
  "kernelspec": {
   "display_name": "torch",
   "language": "python",
   "name": "python3"
  },
  "language_info": {
   "codemirror_mode": {
    "name": "ipython",
    "version": 3
   },
   "file_extension": ".py",
   "mimetype": "text/x-python",
   "name": "python",
   "nbconvert_exporter": "python",
   "pygments_lexer": "ipython3",
   "version": "3.8.19"
  }
 },
 "nbformat": 4,
 "nbformat_minor": 2
}
