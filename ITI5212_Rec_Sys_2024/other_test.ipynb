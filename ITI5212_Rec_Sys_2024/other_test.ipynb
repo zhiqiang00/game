{
 "cells": [
  {
   "cell_type": "code",
   "execution_count": 3,
   "metadata": {},
   "outputs": [
    {
     "name": "stdout",
     "output_type": "stream",
     "text": [
      "Magnitude of the capsule output: 3.7416574954986572\n",
      "Direction of the capsule output: tensor([0.2673, 0.5345, 0.8018])\n"
     ]
    }
   ],
   "source": [
    "# Python/PyTorch代码示例: 胶囊输出向量\n",
    "import torch\n",
    "\n",
    "# 模拟一个胶囊的输出向量\n",
    "capsule_output = torch.Tensor([1, 2, 3])\n",
    "\n",
    "# 输出向量的模长\n",
    "magnitude = torch.norm(capsule_output)\n",
    "print(\"Magnitude of the capsule output:\", magnitude.item())  # 输出模长，表示特征出现的概率\n",
    "\n",
    "# 输出向量的方向\n",
    "direction = capsule_output / magnitude\n",
    "\n",
    "\n",
    "print(\"Direction of the capsule output:\", direction)  # 输出方向，编码特征属性"
   ]
  },
  {
   "cell_type": "code",
   "execution_count": 5,
   "metadata": {},
   "outputs": [
    {
     "data": {
      "text/plain": [
       "3.7416573867739413"
      ]
     },
     "execution_count": 5,
     "metadata": {},
     "output_type": "execute_result"
    }
   ],
   "source": [
    "14 ** 0.5"
   ]
  },
  {
   "cell_type": "code",
   "execution_count": null,
   "metadata": {},
   "outputs": [],
   "source": []
  }
 ],
 "metadata": {
  "kernelspec": {
   "display_name": "torch",
   "language": "python",
   "name": "python3"
  },
  "language_info": {
   "codemirror_mode": {
    "name": "ipython",
    "version": 3
   },
   "file_extension": ".py",
   "mimetype": "text/x-python",
   "name": "python",
   "nbconvert_exporter": "python",
   "pygments_lexer": "ipython3",
   "version": "3.8.0"
  }
 },
 "nbformat": 4,
 "nbformat_minor": 2
}
