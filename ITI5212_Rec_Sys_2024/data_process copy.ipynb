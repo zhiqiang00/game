{
 "cells": [
  {
   "cell_type": "code",
   "execution_count": 1,
   "metadata": {},
   "outputs": [
    {
     "name": "stderr",
     "output_type": "stream",
     "text": [
      "/Users/wzq/anaconda3/envs/tf2/lib/python3.8/site-packages/tqdm/auto.py:21: TqdmWarning: IProgress not found. Please update jupyter and ipywidgets. See https://ipywidgets.readthedocs.io/en/stable/user_install.html\n",
      "  from .autonotebook import tqdm as notebook_tqdm\n"
     ]
    }
   ],
   "source": [
    "import numpy as np\n",
    "import torch\n",
    "import torch.nn as nn"
   ]
  },
  {
   "cell_type": "code",
   "execution_count": 27,
   "metadata": {},
   "outputs": [
    {
     "name": "stdout",
     "output_type": "stream",
     "text": [
      "x_0.shape torch.Size([3, 5, 1])\n",
      "kernels.shape torch.Size([5, 1])\n",
      "xl_w.shape torch.Size([3, 1, 1])\n",
      "dot.shape torch.Size([3, 5, 1])\n"
     ]
    },
    {
     "data": {
      "text/plain": [
       "torch.Size([3, 5])"
      ]
     },
     "execution_count": 27,
     "metadata": {},
     "output_type": "execute_result"
    }
   ],
   "source": [
    "x_0 = torch.Tensor([[1,2,3,4,5], [1,2,3,4,5], [1,2,3,4,5]])\n",
    "x_0 = x_0.unsqueeze(2)\n",
    "print(\"x_0.shape\", x_0.shape)\n",
    "x_l = x_0\n",
    "kernels = torch.randint(0, 5, (5, 1), dtype=torch.float)\n",
    "print(\"kernels.shape\", kernels.shape)\n",
    "xl_w = torch.tensordot(x_l, kernels, dims=([1], [0]))\n",
    "print(\"xl_w.shape\", xl_w.shape)\n",
    "dot_ = torch.matmul(x_0, xl_w)\n",
    "print(\"dot.shape\", dot_.shape)\n",
    "\n",
    "x_l = dot_ + 9.9 + x_l\n",
    "x_l.shape\n",
    "x_l = torch.squeeze(x_l, dim=2)\n",
    "x_l.shape"
   ]
  },
  {
   "cell_type": "code",
   "execution_count": 6,
   "metadata": {},
   "outputs": [
    {
     "name": "stdout",
     "output_type": "stream",
     "text": [
      "torch.dot(a, b): \n",
      "11,\n",
      "np.dot(a, b): \n",
      "11\n",
      "np.dot(c, d): \n",
      "[[22 28]\n",
      " [49 64]]\n"
     ]
    },
    {
     "ename": "RuntimeError",
     "evalue": "1D tensors expected, but got 2D and 2D tensors",
     "output_type": "error",
     "traceback": [
      "\u001b[0;31m---------------------------------------------------------------------------\u001b[0m",
      "\u001b[0;31mRuntimeError\u001b[0m                              Traceback (most recent call last)",
      "Cell \u001b[0;32mIn[6], line 8\u001b[0m\n\u001b[1;32m      6\u001b[0m \u001b[38;5;28mprint\u001b[39m(\u001b[38;5;124mf\u001b[39m\u001b[38;5;124m\"\u001b[39m\u001b[38;5;124mtorch.dot(a, b): \u001b[39m\u001b[38;5;130;01m\\n\u001b[39;00m\u001b[38;5;132;01m{\u001b[39;00mtorch\u001b[38;5;241m.\u001b[39mdot(a,\u001b[38;5;250m \u001b[39mb)\u001b[38;5;132;01m}\u001b[39;00m\u001b[38;5;124m,\u001b[39m\u001b[38;5;130;01m\\n\u001b[39;00m\u001b[38;5;124mnp.dot(a, b): \u001b[39m\u001b[38;5;130;01m\\n\u001b[39;00m\u001b[38;5;132;01m{\u001b[39;00mnp\u001b[38;5;241m.\u001b[39mdot(a,\u001b[38;5;250m \u001b[39mb)\u001b[38;5;132;01m}\u001b[39;00m\u001b[38;5;124m\"\u001b[39m)\n\u001b[1;32m      7\u001b[0m \u001b[38;5;28mprint\u001b[39m(\u001b[38;5;124mf\u001b[39m\u001b[38;5;124m\"\u001b[39m\u001b[38;5;124mnp.dot(c, d): \u001b[39m\u001b[38;5;130;01m\\n\u001b[39;00m\u001b[38;5;132;01m{\u001b[39;00mnp\u001b[38;5;241m.\u001b[39mdot(c,\u001b[38;5;250m \u001b[39md)\u001b[38;5;132;01m}\u001b[39;00m\u001b[38;5;124m\"\u001b[39m)\n\u001b[0;32m----> 8\u001b[0m \u001b[38;5;28mprint\u001b[39m(\u001b[38;5;124mf\u001b[39m\u001b[38;5;124m\"\u001b[39m\u001b[38;5;124mtorch.dot(c, d): \u001b[39m\u001b[38;5;130;01m\\n\u001b[39;00m\u001b[38;5;132;01m{\u001b[39;00mtorch\u001b[38;5;241m.\u001b[39mdot(c,\u001b[38;5;250m \u001b[39md)\u001b[38;5;132;01m}\u001b[39;00m\u001b[38;5;124m\"\u001b[39m)\n",
      "\u001b[0;31mRuntimeError\u001b[0m: 1D tensors expected, but got 2D and 2D tensors"
     ]
    }
   ],
   "source": [
    "a = torch.tensor([1, 2])\n",
    "b = torch.tensor([3, 4])\n",
    "c = torch.tensor([[1, 2, 3], [4, 5, 6]])  # (2, 3)\n",
    "d = torch.tensor([[1, 2], [3, 4], [5, 6]])  # (3, 2)\n",
    "# ----------------------------------------------------\n",
    "print(f\"torch.dot(a, b): \\n{torch.dot(a, b)},\\nnp.dot(a, b): \\n{np.dot(a, b)}\")\n",
    "print(f\"np.dot(c, d): \\n{np.dot(c, d)}\")\n",
    "print(f\"torch.dot(c, d): \\n{torch.dot(c, d)}\")\n"
   ]
  },
  {
   "cell_type": "code",
   "execution_count": 8,
   "metadata": {},
   "outputs": [
    {
     "name": "stdout",
     "output_type": "stream",
     "text": [
      "torch.tensordot(a, b, dims=([1], [0])): \n",
      "tensor([[ 30,  70],\n",
      "        [ 70, 174],\n",
      "        [ 20,  68]])\n"
     ]
    }
   ],
   "source": [
    "a = torch.tensor([[1, 2, 3, 4],\n",
    "                  [5, 6, 7, 8],\n",
    "                  [9, 0, 1, 2]])  # (3, 4)\n",
    "# b = torch.tensor([[1, 2],\n",
    "#                   [3, 4],\n",
    "#                   [5, 6], \n",
    "#                   [7, 8]])  # (4, 2)\n",
    "b = torch.tensor([[1, 2, 3, 4],\n",
    "                  [5, 6, 7, 8]])  # (2, 4)\n",
    "print(f\"torch.tensordot(a, b, dims=([1], [0])): \\n{torch.tensordot(a, b, dims=([1], [1]))}\")\n"
   ]
  }
 ],
 "metadata": {
  "kernelspec": {
   "display_name": "tf2",
   "language": "python",
   "name": "tf2"
  },
  "language_info": {
   "codemirror_mode": {
    "name": "ipython",
    "version": 3
   },
   "file_extension": ".py",
   "mimetype": "text/x-python",
   "name": "python",
   "nbconvert_exporter": "python",
   "pygments_lexer": "ipython3",
   "version": "3.8.17"
  }
 },
 "nbformat": 4,
 "nbformat_minor": 2
}
