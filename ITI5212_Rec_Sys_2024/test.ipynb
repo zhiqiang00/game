{
 "cells": [
  {
   "cell_type": "code",
   "execution_count": 52,
   "metadata": {},
   "outputs": [
    {
     "data": {
      "text/html": [
       "<div>\n",
       "<style scoped>\n",
       "    .dataframe tbody tr th:only-of-type {\n",
       "        vertical-align: middle;\n",
       "    }\n",
       "\n",
       "    .dataframe tbody tr th {\n",
       "        vertical-align: top;\n",
       "    }\n",
       "\n",
       "    .dataframe thead th {\n",
       "        text-align: right;\n",
       "    }\n",
       "</style>\n",
       "<table border=\"1\" class=\"dataframe\">\n",
       "  <thead>\n",
       "    <tr style=\"text-align: right;\">\n",
       "      <th></th>\n",
       "      <th>org_id</th>\n",
       "      <th>company_name</th>\n",
       "      <th>p_date</th>\n",
       "      <th>service_provider_id</th>\n",
       "      <th>service_provider_assistant_name</th>\n",
       "    </tr>\n",
       "  </thead>\n",
       "  <tbody>\n",
       "    <tr>\n",
       "      <th>0</th>\n",
       "      <td>10890</td>\n",
       "      <td>惠州市慧佳人力资源有限公司</td>\n",
       "      <td>20240101</td>\n",
       "      <td>16</td>\n",
       "      <td>lixunlang</td>\n",
       "    </tr>\n",
       "    <tr>\n",
       "      <th>1</th>\n",
       "      <td>10890</td>\n",
       "      <td>惠州市慧佳人力资源有限公司</td>\n",
       "      <td>20240102</td>\n",
       "      <td>16</td>\n",
       "      <td>lixunlang</td>\n",
       "    </tr>\n",
       "    <tr>\n",
       "      <th>2</th>\n",
       "      <td>10890</td>\n",
       "      <td>惠州市慧佳人力资源有限公司</td>\n",
       "      <td>20240103</td>\n",
       "      <td>16</td>\n",
       "      <td>lixunlang</td>\n",
       "    </tr>\n",
       "    <tr>\n",
       "      <th>3</th>\n",
       "      <td>10890</td>\n",
       "      <td>惠州市慧佳人力资源有限公司</td>\n",
       "      <td>20240104</td>\n",
       "      <td>16</td>\n",
       "      <td>lixunlang</td>\n",
       "    </tr>\n",
       "    <tr>\n",
       "      <th>4</th>\n",
       "      <td>10890</td>\n",
       "      <td>惠州市慧佳人力资源有限公司</td>\n",
       "      <td>20240105</td>\n",
       "      <td>16</td>\n",
       "      <td>lixunlang</td>\n",
       "    </tr>\n",
       "    <tr>\n",
       "      <th>...</th>\n",
       "      <td>...</td>\n",
       "      <td>...</td>\n",
       "      <td>...</td>\n",
       "      <td>...</td>\n",
       "      <td>...</td>\n",
       "    </tr>\n",
       "    <tr>\n",
       "      <th>23744</th>\n",
       "      <td>242392</td>\n",
       "      <td>湘潭县易俗河镇实耀电子商务工作室</td>\n",
       "      <td>20241106</td>\n",
       "      <td>98</td>\n",
       "      <td>华南-李佳</td>\n",
       "    </tr>\n",
       "    <tr>\n",
       "      <th>23745</th>\n",
       "      <td>242392</td>\n",
       "      <td>湘潭县易俗河镇实耀电子商务工作室</td>\n",
       "      <td>20241107</td>\n",
       "      <td>98</td>\n",
       "      <td>华南-李佳</td>\n",
       "    </tr>\n",
       "    <tr>\n",
       "      <th>23746</th>\n",
       "      <td>242392</td>\n",
       "      <td>湘潭县易俗河镇实耀电子商务工作室</td>\n",
       "      <td>20241108</td>\n",
       "      <td>98</td>\n",
       "      <td>华南-李佳</td>\n",
       "    </tr>\n",
       "    <tr>\n",
       "      <th>23747</th>\n",
       "      <td>242874</td>\n",
       "      <td>佛山市跃合家具有限公司</td>\n",
       "      <td>20241107</td>\n",
       "      <td>98</td>\n",
       "      <td>华南-李佳</td>\n",
       "    </tr>\n",
       "    <tr>\n",
       "      <th>23748</th>\n",
       "      <td>242874</td>\n",
       "      <td>佛山市跃合家具有限公司</td>\n",
       "      <td>20241108</td>\n",
       "      <td>98</td>\n",
       "      <td>华南-李佳</td>\n",
       "    </tr>\n",
       "  </tbody>\n",
       "</table>\n",
       "<p>23749 rows × 5 columns</p>\n",
       "</div>"
      ],
      "text/plain": [
       "       org_id      company_name    p_date  service_provider_id  \\\n",
       "0       10890     惠州市慧佳人力资源有限公司  20240101                   16   \n",
       "1       10890     惠州市慧佳人力资源有限公司  20240102                   16   \n",
       "2       10890     惠州市慧佳人力资源有限公司  20240103                   16   \n",
       "3       10890     惠州市慧佳人力资源有限公司  20240104                   16   \n",
       "4       10890     惠州市慧佳人力资源有限公司  20240105                   16   \n",
       "...       ...               ...       ...                  ...   \n",
       "23744  242392  湘潭县易俗河镇实耀电子商务工作室  20241106                   98   \n",
       "23745  242392  湘潭县易俗河镇实耀电子商务工作室  20241107                   98   \n",
       "23746  242392  湘潭县易俗河镇实耀电子商务工作室  20241108                   98   \n",
       "23747  242874       佛山市跃合家具有限公司  20241107                   98   \n",
       "23748  242874       佛山市跃合家具有限公司  20241108                   98   \n",
       "\n",
       "      service_provider_assistant_name  \n",
       "0                           lixunlang  \n",
       "1                           lixunlang  \n",
       "2                           lixunlang  \n",
       "3                           lixunlang  \n",
       "4                           lixunlang  \n",
       "...                               ...  \n",
       "23744                           华南-李佳  \n",
       "23745                           华南-李佳  \n",
       "23746                           华南-李佳  \n",
       "23747                           华南-李佳  \n",
       "23748                           华南-李佳  \n",
       "\n",
       "[23749 rows x 5 columns]"
      ]
     },
     "metadata": {},
     "output_type": "display_data"
    },
    {
     "name": "stdout",
     "output_type": "stream",
     "text": [
      "文件已经保存到：/Users/wzq/Desktop/data_process.xlsx\n"
     ]
    }
   ],
   "source": [
    "import pandas as pd\n",
    "import time\n",
    "\n",
    "\n",
    "def org_server_relationship(file_path_name, save_path_name):\n",
    "    df = pd.read_excel(file_path_name, sheet_name='s1', header=0, engine='openpyxl')\n",
    "    df['service_provider_id'] = df['service_provider_id'].fillna(-1).astype(int)\n",
    "    # display(df)\n",
    "\n",
    "    df['p_date'] = pd.to_datetime(df['p_date'], format='%Y%m%d', errors='coerce')\n",
    "    df = df.sort_values(by=['org_id', 'p_date'], ascending=[True, True])\n",
    "    # 按 col1 分组，并删除每个组内相邻重复元素的最后一个\n",
    "    df_grouped_unique_adjacent = df.groupby('org_id').apply(\n",
    "        lambda x: x.loc[x['service_provider_id'].shift(-1) != x['service_provider_id']]\n",
    "    ).reset_index(drop=True)\n",
    "\n",
    "    df_grouped_unique_adjacent['duration'] = df_grouped_unique_adjacent.groupby('org_id')['p_date'].diff()\n",
    "    df_grouped_unique_adjacent.to_excel(save_path_name)\n",
    "    print('文件已经保存到：' + save_path_name)\n",
    "\n",
    "file_path_name = '/Users/wzq/Desktop/data2.xlsx'\n",
    "save_path_name = '/Users/wzq/Desktop/data_process.xlsx'\n",
    "org_server_relationship(file_path_name, save_path_name)"
   ]
  },
  {
   "cell_type": "code",
   "execution_count": null,
   "metadata": {},
   "outputs": [],
   "source": []
  },
  {
   "cell_type": "code",
   "execution_count": 35,
   "metadata": {},
   "outputs": [
    {
     "name": "stdout",
     "output_type": "stream",
     "text": [
      "Looking in indexes: https://pypi.tuna.tsinghua.edu.cn/simple\n",
      "Collecting openpyxl\n",
      "  Downloading https://pypi.tuna.tsinghua.edu.cn/packages/c0/da/977ded879c29cbd04de313843e76868e6e13408a94ed6b987245dc7c8506/openpyxl-3.1.5-py2.py3-none-any.whl (250 kB)\n",
      "Collecting et-xmlfile (from openpyxl)\n",
      "  Downloading https://pypi.tuna.tsinghua.edu.cn/packages/c1/8b/5fe2cc11fee489817272089c4203e679c63b570a5aaeb18d852ae3cbba6a/et_xmlfile-2.0.0-py3-none-any.whl (18 kB)\n",
      "Installing collected packages: et-xmlfile, openpyxl\n",
      "Successfully installed et-xmlfile-2.0.0 openpyxl-3.1.5\n"
     ]
    }
   ],
   "source": [
    "!pip3 install openpyxl"
   ]
  },
  {
   "cell_type": "code",
   "execution_count": null,
   "metadata": {},
   "outputs": [],
   "source": []
  },
  {
   "cell_type": "code",
   "execution_count": 12,
   "metadata": {},
   "outputs": [
    {
     "data": {
      "text/html": [
       "<div>\n",
       "<style scoped>\n",
       "    .dataframe tbody tr th:only-of-type {\n",
       "        vertical-align: middle;\n",
       "    }\n",
       "\n",
       "    .dataframe tbody tr th {\n",
       "        vertical-align: top;\n",
       "    }\n",
       "\n",
       "    .dataframe thead th {\n",
       "        text-align: right;\n",
       "    }\n",
       "</style>\n",
       "<table border=\"1\" class=\"dataframe\">\n",
       "  <thead>\n",
       "    <tr style=\"text-align: right;\">\n",
       "      <th></th>\n",
       "      <th>col1</th>\n",
       "      <th>col2</th>\n",
       "      <th>col3</th>\n",
       "    </tr>\n",
       "  </thead>\n",
       "  <tbody>\n",
       "    <tr>\n",
       "      <th>0</th>\n",
       "      <td>3</td>\n",
       "      <td>5</td>\n",
       "      <td>A</td>\n",
       "    </tr>\n",
       "    <tr>\n",
       "      <th>1</th>\n",
       "      <td>3</td>\n",
       "      <td>5</td>\n",
       "      <td>B</td>\n",
       "    </tr>\n",
       "    <tr>\n",
       "      <th>2</th>\n",
       "      <td>3</td>\n",
       "      <td>4</td>\n",
       "      <td>C</td>\n",
       "    </tr>\n",
       "    <tr>\n",
       "      <th>3</th>\n",
       "      <td>1</td>\n",
       "      <td>2</td>\n",
       "      <td>D</td>\n",
       "    </tr>\n",
       "    <tr>\n",
       "      <th>4</th>\n",
       "      <td>1</td>\n",
       "      <td>2</td>\n",
       "      <td>E</td>\n",
       "    </tr>\n",
       "    <tr>\n",
       "      <th>5</th>\n",
       "      <td>2</td>\n",
       "      <td>3</td>\n",
       "      <td>F</td>\n",
       "    </tr>\n",
       "    <tr>\n",
       "      <th>6</th>\n",
       "      <td>2</td>\n",
       "      <td>3</td>\n",
       "      <td>G</td>\n",
       "    </tr>\n",
       "    <tr>\n",
       "      <th>7</th>\n",
       "      <td>2</td>\n",
       "      <td>4</td>\n",
       "      <td>H</td>\n",
       "    </tr>\n",
       "  </tbody>\n",
       "</table>\n",
       "</div>"
      ],
      "text/plain": [
       "   col1  col2 col3\n",
       "0     3     5    A\n",
       "1     3     5    B\n",
       "2     3     4    C\n",
       "3     1     2    D\n",
       "4     1     2    E\n",
       "5     2     3    F\n",
       "6     2     3    G\n",
       "7     2     4    H"
      ]
     },
     "metadata": {},
     "output_type": "display_data"
    },
    {
     "name": "stdout",
     "output_type": "stream",
     "text": [
      "   col1  col2 col3\n",
      "0     1     2    D\n",
      "1     2     3    F\n",
      "2     2     4    H\n",
      "3     3     5    A\n",
      "4     3     4    C\n"
     ]
    }
   ],
   "source": [
    "import pandas as pd\n",
    "\n",
    "# 示例数据\n",
    "data = {\n",
    "    'col1': [3, 3, 3, 1, 1, 2, 2, 2],\n",
    "    'col2': [5, 5, 4, 2, 2, 3, 3, 4],\n",
    "    'col3': ['A', 'B', 'C', 'D', 'E', 'F', 'G', 'H']\n",
    "}\n",
    "\n",
    "df = pd.DataFrame(data)\n",
    "display(df)\n",
    "\n",
    "# 按 col1 分组，并删除每个组内相邻重复元素的最后一个\n",
    "df_grouped_unique_adjacent = df.groupby('col1').apply(\n",
    "    lambda x: x.loc[x['col2'].shift() != x['col2']]\n",
    ").reset_index(drop=True)\n",
    "\n",
    "print(df_grouped_unique_adjacent)"
   ]
  },
  {
   "cell_type": "code",
   "execution_count": 15,
   "metadata": {},
   "outputs": [
    {
     "data": {
      "image/png": "[encoded data removed]",
      "text/plain": [
       "<Figure size 640x480 with 1 Axes>"
      ]
     },
     "metadata": {},
     "output_type": "display_data"
    }
   ],
   "source": [
    "import numpy as np\n",
    "import matplotlib.pyplot as plt\n",
    "\n",
    "def calculate_y(a, b, c, x):\n",
    "    return a * np.exp(-b * x) + c\n",
    "\n",
    "# 测试参数\n",
    "a = 1\n",
    "b = 0.00001\n",
    "c = 0.001\n",
    "x_values = np.linspace(0, 500000, 1000)  # 生成从 0 到 10 的 100 个点\n",
    "\n",
    "# 计算 y 值\n",
    "y_values = calculate_y(a, b, c, x_values)\n",
    "\n",
    "# 绘制结果\n",
    "plt.plot(x_values, y_values, label=f'y = {a} * e^(-{b} * x) + {c}')\n",
    "plt.title('Graph of y = a * e^(-b * x) + c')\n",
    "plt.xlabel('x')\n",
    "plt.ylabel('y')\n",
    "plt.legend()\n",
    "plt.grid()\n",
    "plt.show()\n"
   ]
  },
  {
   "cell_type": "code",
   "execution_count": 16,
   "metadata": {},
   "outputs": [
    {
     "data": {
      "text/plain": [
       "0.0005285178054362836"
      ]
     },
     "execution_count": 16,
     "metadata": {},
     "output_type": "execute_result"
    }
   ],
   "source": [
    "7095660 / 13425583636"
   ]
  },
  {
   "cell_type": "code",
   "execution_count": 2,
   "metadata": {},
   "outputs": [
    {
     "name": "stdout",
     "output_type": "stream",
     "text": [
      "/Users/wzq/Desktop/game/ITI5212_Rec_Sys_2024\n"
     ]
    }
   ],
   "source": [
    "!pwd"
   ]
  },
  {
   "cell_type": "code",
   "execution_count": 19,
   "metadata": {},
   "outputs": [
    {
     "data": {
      "text/plain": [
       "80114050501"
      ]
     },
     "execution_count": 19,
     "metadata": {},
     "output_type": "execute_result"
    }
   ],
   "source": [
    "13425583636 + 66688466865"
   ]
  },
  {
   "cell_type": "code",
   "execution_count": 17,
   "metadata": {},
   "outputs": [
    {
     "data": {
      "text/plain": [
       "0.0004602870397686417"
      ]
     },
     "execution_count": 17,
     "metadata": {},
     "output_type": "execute_result"
    }
   ],
   "source": [
    "30695837 / 66688466865"
   ]
  },
  {
   "cell_type": "code",
   "execution_count": 21,
   "metadata": {},
   "outputs": [
    {
     "data": {
      "text/plain": [
       "0.00034047691337720366"
      ]
     },
     "execution_count": 21,
     "metadata": {},
     "output_type": "execute_result"
    }
   ],
   "source": [
    "183224 / 538139277\n"
   ]
  },
  {
   "cell_type": "code",
   "execution_count": 22,
   "metadata": {},
   "outputs": [
    {
     "data": {
      "text/plain": [
       "0.0002555972180266106"
      ]
     },
     "execution_count": 22,
     "metadata": {},
     "output_type": "execute_result"
    }
   ],
   "source": [
    "367664\t/ 1438450711\n"
   ]
  },
  {
   "cell_type": "code",
   "execution_count": 24,
   "metadata": {},
   "outputs": [
    {
     "data": {
      "text/plain": [
       "550888"
      ]
     },
     "execution_count": 24,
     "metadata": {},
     "output_type": "execute_result"
    }
   ],
   "source": [
    "183224 + 367664"
   ]
  },
  {
   "cell_type": "code",
   "execution_count": 25,
   "metadata": {},
   "outputs": [
    {
     "data": {
      "text/plain": [
       "1976589988"
      ]
     },
     "execution_count": 25,
     "metadata": {},
     "output_type": "execute_result"
    }
   ],
   "source": [
    "538139277 + 1438450711"
   ]
  },
  {
   "cell_type": "code",
   "execution_count": null,
   "metadata": {},
   "outputs": [],
   "source": []
  },
  {
   "cell_type": "code",
   "execution_count": 27,
   "metadata": {},
   "outputs": [
    {
     "data": {
      "text/plain": [
       "28.17673203175"
      ]
     },
     "execution_count": 27,
     "metadata": {},
     "output_type": "execute_result"
    }
   ],
   "source": [
    "28.186 - 2.25 * 0.004119097"
   ]
  },
  {
   "cell_type": "code",
   "execution_count": 29,
   "metadata": {},
   "outputs": [
    {
     "data": {
      "text/plain": [
       "11.193777777777777"
      ]
     },
     "execution_count": 29,
     "metadata": {},
     "output_type": "execute_result"
    }
   ],
   "source": [
    "25.186 / 2.25"
   ]
  },
  {
   "cell_type": "code",
   "execution_count": null,
   "metadata": {},
   "outputs": [],
   "source": []
  }
 ],
 "metadata": {
  "kernelspec": {
   "display_name": "torch",
   "language": "python",
   "name": "python3"
  },
  "language_info": {
   "codemirror_mode": {
    "name": "ipython",
    "version": 3
   },
   "file_extension": ".py",
   "mimetype": "text/x-python",
   "name": "python",
   "nbconvert_exporter": "python",
   "pygments_lexer": "ipython3",
   "version": "3.8.0"
  }
 },
 "nbformat": 4,
 "nbformat_minor": 2
}
