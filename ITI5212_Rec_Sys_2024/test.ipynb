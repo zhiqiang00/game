{
 "cells": [
  {
   "cell_type": "code",
   "execution_count": 4,
   "metadata": {},
   "outputs": [
    {
     "data": {
      "text/plain": [
       "[0.5580334339291771,\n",
       " 0.24828493247654812,\n",
       " 0.10708027601962222,\n",
       " 0.047521816248798414,\n",
       " 0.03907954132585412]"
      ]
     },
     "metadata": {},
     "output_type": "display_data"
    },
    {
     "data": {
      "text/plain": [
       "[0.4521299199742343,\n",
       " 0.3432653554190729,\n",
       " 0.18738733096849516,\n",
       " 0.01410403796862489,\n",
       " 0.0028718022124507385]"
      ]
     },
     "metadata": {},
     "output_type": "display_data"
    }
   ],
   "source": [
    "a = [416231,185193,79870,35446,29149]\n",
    "b = [101075,76738,41891,3153,642,54]\n",
    "a1 = []\n",
    "b1 = []\n",
    "for i in range(5):\n",
    "    a1.append(a[i] / sum(a))\n",
    "    b1.append(b[i] / sum(b))\n",
    "display(a1)\n",
    "display(b1)"
   ]
  }
 ],
 "metadata": {
  "kernelspec": {
   "display_name": "torch",
   "language": "python",
   "name": "python3"
  },
  "language_info": {
   "codemirror_mode": {
    "name": "ipython",
    "version": 3
   },
   "file_extension": ".py",
   "mimetype": "text/x-python",
   "name": "python",
   "nbconvert_exporter": "python",
   "pygments_lexer": "ipython3",
   "version": "3.8.19"
  }
 },
 "nbformat": 4,
 "nbformat_minor": 2
}
